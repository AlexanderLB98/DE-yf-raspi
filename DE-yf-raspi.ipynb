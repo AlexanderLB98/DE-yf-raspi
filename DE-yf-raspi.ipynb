{
 "cells": [
  {
   "cell_type": "markdown",
   "metadata": {},
   "source": [
    "# YFinance Data Engineering project for raspberry Pi\n",
    "This project aims to automate the data gathering from yfinance api to store it in a PostgreSQL database\n",
    "\n",
    "Pipeline:\n",
    "- get the tickers from the companies to scratch\n",
    "- Get the data for the current day from those companies\n",
    "- Clean data\n",
    "- Update to PosgreSQL\n",
    "\n",
    "\n"
   ]
  },
  {
   "cell_type": "code",
   "execution_count": null,
   "metadata": {},
   "outputs": [],
   "source": [
    "print(\"hey\")"
   ]
  },
  {
   "cell_type": "markdown",
   "metadata": {},
   "source": [
    "# Main functions\n",
    "- dotDict\n"
   ]
  },
  {
   "cell_type": "code",
   "execution_count": null,
   "metadata": {},
   "outputs": [],
   "source": [
    "import json\n",
    "\n",
    "from src.aux.utils import DotDict\n"
   ]
  },
  {
   "cell_type": "markdown",
   "metadata": {},
   "source": [
    "## Public Configuration file\n",
    "- companies to scratch\n",
    "\n",
    "\n",
    "\n"
   ]
  },
  {
   "cell_type": "code",
   "execution_count": null,
   "metadata": {},
   "outputs": [],
   "source": [
    "config_file =\"config.json\"\n",
    "\n",
    "with open(config_file) as f:\n",
    "    config = DotDict(json.load(f))\n",
    "    print(config)"
   ]
  },
  {
   "cell_type": "code",
   "execution_count": null,
   "metadata": {},
   "outputs": [],
   "source": [
    "config.scratch.companies"
   ]
  },
  {
   "cell_type": "markdown",
   "metadata": {},
   "source": [
    "## yfinance"
   ]
  },
  {
   "cell_type": "code",
   "execution_count": null,
   "metadata": {},
   "outputs": [],
   "source": [
    "import yfinance as yf"
   ]
  },
  {
   "cell_type": "code",
   "execution_count": null,
   "metadata": {},
   "outputs": [],
   "source": [
    "config.scratch.companies[0]"
   ]
  },
  {
   "cell_type": "code",
   "execution_count": null,
   "metadata": {},
   "outputs": [],
   "source": [
    "from datetime import date, timedelta\n",
    "import pandas as pd"
   ]
  },
  {
   "cell_type": "code",
   "execution_count": null,
   "metadata": {},
   "outputs": [],
   "source": [
    "date.today() - timedelta(days=1)"
   ]
  },
  {
   "cell_type": "code",
   "execution_count": null,
   "metadata": {},
   "outputs": [],
   "source": [
    "# Returns a pd.DataFrame\n",
    "df = pd.DataFrame()\n",
    "\n",
    "for company in config.scratch.companies:\n",
    "    data = yf.download(company, start=date.today() - timedelta(days=1), end=date.today())\n",
    "    data = data.reset_index()\n",
    "    data[\"company_code\"] = company\n",
    "    df = pd.concat([df, data])\n",
    "df"
   ]
  },
  {
   "cell_type": "markdown",
   "metadata": {},
   "source": [
    "This df would be ready to upgrade to the \"Shares\" table to PostgreSQL"
   ]
  },
  {
   "cell_type": "code",
   "execution_count": null,
   "metadata": {},
   "outputs": [],
   "source": [
    "# Convert to function\n",
    "\n",
    "def download_companies_yf(companies: list) -> pd.DataFrame():\n",
    "\n",
    "    df = pd.DataFrame()\n",
    "\n",
    "    for company in companies:\n",
    "        data = yf.download(company, start=date.today() - timedelta(days=5), end=date.today())\n",
    "        data = data.reset_index()\n",
    "        data[\"company_code\"] = company\n",
    "        df = pd.concat([df, data])\n",
    "        \n",
    "    return df"
   ]
  },
  {
   "cell_type": "markdown",
   "metadata": {},
   "source": [
    "## Interaction with PostgreSQL\n",
    "Create a class able to:\n",
    "- Connect to postgre\n",
    "- Query from it"
   ]
  },
  {
   "cell_type": "code",
   "execution_count": null,
   "metadata": {},
   "outputs": [],
   "source": [
    "import pandas as pd\n",
    "import psycopg2\n",
    "import json\n",
    "import datetime\n",
    "import yfinance as yf\n",
    "import os\n",
    "\n",
    "\n",
    "\n",
    "class DbManager:\n",
    "    \n",
    "    def __init__(self, scheme = None, database = None):\n",
    "        config = self._load_config()\n",
    "        \n",
    "        if scheme:\n",
    "            config[\"scheme\"] = scheme\n",
    "        if database:\n",
    "            config[\"database\"] = database\n",
    "        \n",
    "        self.user = config[\"user\"]\n",
    "        self.password = config[\"password\"]\n",
    "        self.host = config[\"host\"]\n",
    "        self.port = config[\"port\"]\n",
    "        self.scheme = config[\"scheme\"]\n",
    "        # self.database = database or config[\"database\"]\n",
    "        self.dbname = config[\"database\"]\n",
    "        self.connection = None\n",
    "        self.connection = self._connect()\n",
    "        \n",
    "        for key, value in config.items():\n",
    "            print(f'{key}: {value}')\n",
    "\n",
    "    def _load_config(self):\n",
    "        config_path = os.path.expanduser('~/.creds/config_postgres.json')\n",
    "        with open(config_path) as f:\n",
    "            config = json.load(f)\n",
    "        return config['postgres']\n",
    "\n",
    "    def _connect(self):\n",
    "        try:\n",
    "            self.connection = psycopg2.connect(\n",
    "                dbname=self.dbname,\n",
    "                user=self.user,\n",
    "                password=self.password,\n",
    "                host=self.host,\n",
    "                port=self.port\n",
    "            )\n",
    "            print(\"Successful connection to PostgreSQL database\")\n",
    "            return True\n",
    "        except (Exception, psycopg2.Error) as error:\n",
    "            print(\"Error connecting to PostgreSQL database:\", error)\n",
    "            assert error\n",
    "            \n",
    "\n",
    "    def add_df_to_postgresql(self, df, company: str = None):\n",
    "        \n",
    "        result = []\n",
    "        \n",
    "        self._connect()\n",
    "        for index, df in df.iterrows():        \n",
    "            \"\"\"\n",
    "                cada linea del df tendrá que lanzar la query de añadir dato\n",
    "            \"\"\"\n",
    "            try:\n",
    "                if isinstance(df[\"Date\"], pd.Timestamp):\n",
    "                    # df[\"Date\"] = df[\"Date\"].strftime(\"%Y-%m-%d\")  # Convertir Timestamp a cadena\n",
    "                    df[\"Date\"] = df[\"Date\"].to_pydatetime()\n",
    "                    #print(df)\n",
    "                    date = df[\"Date\"]\n",
    "                    #print(type(date))\n",
    "                    # date = df[\"Date\"].date()\n",
    "                else:\n",
    "                    date = datetime.datetime.strptime(df[\"Date\"], \"%Y-%m-%d\")\n",
    "                #print(date)\n",
    "                if company == None:\n",
    "                    company_str = df[\"company_code\"]\n",
    "                else:\n",
    "                    company_str = company\n",
    "                    \n",
    "                values = [company_str, date, float(df[\"Open\"]), float(df[\"High\"]), float(df[\"Low\"]), float(df[\"Close\"]), float(df[\"Adj Close\"]), int(df[\"Volume\"])]\n",
    "                \n",
    "                self.add_individual_share(nombre_tabla=\"stock_data\", valores=values)\n",
    "                print('Data added correctly.')\n",
    "                result.append(values)\n",
    "                \n",
    "            except Exception as e:\n",
    "                print(\"Error ocurred: \" + str(e))\n",
    "                \n",
    "        self._close_conexion()\n",
    "        return result\n",
    "\n",
    "\n",
    "\n",
    "\n",
    "\n",
    "    def add_individual_share(self, nombre_tabla: str = \"stock_data\", valores: list = []):\n",
    "        \"\"\"_summary_\n",
    "\n",
    "        Args:\n",
    "            nombre_tabla (_type_): \n",
    "                Nombre de la tabla:\n",
    "                    - company, shares...\n",
    "            valores (list): \n",
    "                Lista de valores a añadir:\n",
    "                    - company_code: string\n",
    "                    - date: datetime\n",
    "                    - open: float\n",
    "                    - High: float\n",
    "                    - Low: flaot\n",
    "                    - close: float\n",
    "                    - Adj Close: float\n",
    "                    - volume: integer\n",
    "        \"\"\"   \n",
    "        \n",
    "        try:\n",
    "            valores, flag = self._check_data(valores)\n",
    "            if flag:\n",
    "                cursor = self.connection.cursor()\n",
    "                \n",
    "                valores = ', '.join([f\"'{val}'\" for val in valores])\n",
    "                print(valores)\n",
    "                consulta = f\"INSERT INTO {self.scheme}.{nombre_tabla} VALUES ({valores});\"\n",
    "                cursor.execute(consulta)\n",
    "                \n",
    "                #self.connection.autocommit(True)\n",
    "                self.connection.commit()\n",
    "                print(f\"Valores agregados a la tabla '{self.scheme}.{nombre_tabla}' exitosamente.\")\n",
    "                cursor.close()\n",
    "        except (Exception, psycopg2.Error) as error:\n",
    "            print(\"Error al agregar valores:\", error)\n",
    "            self.connection.rollback() # Revert transaction in case of error\n",
    "\n",
    "\n",
    "    def get_all_tickers(self):\n",
    "        \"\"\"_summary_\n",
    "            get a list with all the tickers \n",
    "        Args:\n",
    "            No Args\n",
    "        \"\"\"\n",
    "        \n",
    "        self._connect()\n",
    "        cursor = self.connection.cursor()\n",
    "        \n",
    "        # consulta = f\"SELECT COLUMN_NAME\n",
    "        #             FROM INFORMATION_SCHEMA.COLUMNS\n",
    "        #             WHERE TABLE_SCHEMA = '{self.esquema}'\n",
    "        #             AND TABLE_NAME = '{table_name}';\"\n",
    "        \n",
    "        consulta = f\"\"\"\n",
    "            SELECT company_code\n",
    "            FROM {self.scheme}.company\n",
    "            \"\"\"\n",
    "\n",
    "        cursor.execute(consulta)\n",
    "        \n",
    "        columns = cursor.fetchall() #result será una lista con los datos de la query\n",
    "        \n",
    "        # Rearrenge format\n",
    "        columns = [column[0] for column in columns]\n",
    "        \n",
    "        self.connection.commit()\n",
    "\n",
    "        self._close_conexion()\n",
    "\n",
    "        return columns \n",
    "\n",
    "\n",
    "\n",
    "    def _check_data(self, valores, table=\"stock_data\"):\n",
    "        if table == \"stock_data\":\n",
    "            # Verificar que la lista de valores tenga el formato correcto\n",
    "            if len(valores) != 8:\n",
    "                print(\"Error: La lista 'valores' debe contener exactamente 7 elementos.\")\n",
    "                \"\"\"\n",
    "                Lista de valores a añadir:        \n",
    "                    - company_code: string\n",
    "                    - date: datetime\n",
    "                    - open: float\n",
    "                    - High: float\n",
    "                    - Low: flaot\n",
    "                    - close: float\n",
    "                    - Adj Close: float\n",
    "                    - volume: integer\n",
    "                \"\"\"\n",
    "                return valores, False\n",
    "\n",
    "            # Desempaquetar los valores de la lista\n",
    "            company_code, date, open_val, high_val, low_val, close_val, adj_close, volume = valores\n",
    "\n",
    "            # Verificar que los valores estén en el formato correcto\n",
    "            if not isinstance(company_code, str):\n",
    "                print(\"Error: 'company_code' debe ser una cadena de caracteres.\")\n",
    "                return valores, False\n",
    "            \n",
    "            if not isinstance(date, datetime.date):\n",
    "                print(\"Error: 'date' debe ser un objeto de fecha.\")\n",
    "                if isinstance(date, datetime.datetime.timestamp):\n",
    "                    date_str = valores[\"Date\"].strftime(\"%Y-%m-%d\")  # Convertir Timestamp a cadena\n",
    "                    return date_str, True\n",
    "                return valores, False\n",
    "            \n",
    "                \n",
    "            if open_val is not None and not isinstance(open_val, (int, float)):\n",
    "                print(\"Error: 'open_val' debe ser un número entero o de punto flotante.\")\n",
    "                return valores, False\n",
    "            if high_val is not None and not isinstance(high_val, (int, float)):\n",
    "                print(\"Error: 'high_val' debe ser un número entero o de punto flotante.\")\n",
    "                return valores, False\n",
    "            if low_val is not None and not isinstance(low_val, (int, float)):\n",
    "                print(\"Error: 'low_val' debe ser un número entero o de punto flotante.\")\n",
    "                return valores, False\n",
    "            if close_val is not None and not isinstance(close_val, (int, float)):\n",
    "                print(\"Error: 'close_val' debe ser un número entero o de punto flotante.\")\n",
    "                return valores, False\n",
    "            if adj_close is not None and not isinstance(adj_close, (int, float)):\n",
    "                print(\"Error: 'adj_close' debe ser un número entero o de punto flotante.\")\n",
    "                return valores, False\n",
    "            if volume is not None and not isinstance(volume, int):\n",
    "                print(\"Error: 'volume' debe ser un número entero.\")\n",
    "                return valores, False\n",
    "            else:\n",
    "                print(\"data in correct format\")\n",
    "                return valores, True\n",
    "            \n",
    "            \n",
    "        elif table == \"company\":\n",
    "            # Desempaquetar los valores de la lista\n",
    "            company_code, company_name, market = valores\n",
    "\n",
    "            # Verificar que los valores estén en el formato correcto\n",
    "            if not isinstance(company_code, str):\n",
    "                print(\"Error: 'company_code' debe ser una cadena de caracteres.\")\n",
    "                return valores, False\n",
    "            if not isinstance(company_name, str):\n",
    "                print(\"Error: 'company_name' debe ser una cadena de caracteres.\")\n",
    "                return valores, False\n",
    "            if not isinstance(market, str):\n",
    "                print(\"Error: 'market' debe ser una cadena de caracteres.\")\n",
    "                return valores, False\n",
    "            else:\n",
    "                print(\"data in correct format\")\n",
    "                return valores, True\n",
    "\n",
    "    def _close_conexion(self):\n",
    "        if self.connection:\n",
    "            self.connection.close()\n",
    "            print(\"Conexión cerrada correctamente.\")\n"
   ]
  },
  {
   "cell_type": "code",
   "execution_count": null,
   "metadata": {},
   "outputs": [],
   "source": [
    "companies = db.get_all_tickers()\n",
    "companies"
   ]
  },
  {
   "cell_type": "code",
   "execution_count": null,
   "metadata": {},
   "outputs": [],
   "source": [
    "companies"
   ]
  },
  {
   "cell_type": "code",
   "execution_count": null,
   "metadata": {},
   "outputs": [],
   "source": [
    "companies=[\"NVDA\", \"TSLA\", \"AD.AS\"]\n",
    "df_all_companies_today = download_companies_yf(companies)\n",
    "df_all_companies_today"
   ]
  },
  {
   "cell_type": "code",
   "execution_count": null,
   "metadata": {},
   "outputs": [],
   "source": [
    "df_all_companies_today"
   ]
  },
  {
   "cell_type": "code",
   "execution_count": null,
   "metadata": {},
   "outputs": [],
   "source": [
    "db.add_df_to_postgresql(df_all_companies_today)"
   ]
  }
 ],
 "metadata": {
  "kernelspec": {
   "display_name": "postgre",
   "language": "python",
   "name": "python3"
  },
  "language_info": {
   "codemirror_mode": {
    "name": "ipython",
    "version": 3
   },
   "file_extension": ".py",
   "mimetype": "text/x-python",
   "name": "python",
   "nbconvert_exporter": "python",
   "pygments_lexer": "ipython3",
   "version": "3.12.4"
  }
 },
 "nbformat": 4,
 "nbformat_minor": 2
}
